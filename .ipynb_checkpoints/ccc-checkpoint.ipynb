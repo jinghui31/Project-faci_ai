{
 "cells": [
  {
   "cell_type": "code",
   "execution_count": 27,
   "metadata": {},
   "outputs": [],
   "source": [
    "from os import listdir\n",
    "from os.path import join\n",
    "from PIL import Image\n",
    "#import numpy as np\n",
    "import cv2"
   ]
  },
  {
   "cell_type": "code",
   "execution_count": 20,
   "metadata": {},
   "outputs": [],
   "source": [
    "path1 = \"raw\"\n",
    "path2 = \"resize\"\n",
    "path3 = \"schannel\"\n",
    "path4 = \"acne\"\n",
    "\n",
    "face_cascade = cv2.CascadeClassifier('haarcascade_frontalface_alt.xml')"
   ]
  },
  {
   "cell_type": "code",
   "execution_count": 37,
   "metadata": {},
   "outputs": [],
   "source": [
    "files = listdir(path1)\n",
    "files.sort()\n",
    "\n",
    "for f in files:\n",
    "    file_path1 = join(path1, f)\n",
    "    file_path2 = join(path2, f)\n",
    "    \n",
    "    \n",
    "    img = cv2.imread(file_path1)\n",
    "    gray = cv2.cvtColor(img, cv2.COLOR_BGR2GRAY)\n",
    "    faces = face_cascade.detectMultiScale(gray, scaleFactor = 1.16, minNeighbors = 5, minSize = (25,25))\n",
    "    for (x, y, w, h) in faces:\n",
    "        roi_color = img[y : y + h, x : x + w]\n",
    "\n",
    "    cut_img = img[y : y + h, x : x + w]\n",
    "    resize_img = cv2.resize(cut_img, (300,300), interpolation = cv2.INTER_AREA)\n",
    "    cv2.imwrite(file_path2, resize_img)\n",
    "\n",
    "#please check pictures in resize folder\n",
    "\n",
    "for x in files:\n",
    "    file_path2 = join(path2, x)\n",
    "    file_path3 = join(path3, x)\n",
    "    hsv_img = cv2.imread(file_path2)\n",
    "    hsv_img = cv2.cvtColor(hsv_img, cv2.COLOR_BGR2HSV)\n",
    "    cv2.imwrite(file_path3, hsv_img[:,:,1])\n",
    "\n",
    "for z in files:\n",
    "    file_path2 = join(path2, z)\n",
    "    file_path4 = join(path4, z)\n",
    "    img = Image.open(file_path2)\n",
    "    width = img.size[0]\n",
    "    height = img.size[1]\n",
    "    \n",
    "    leftCheek = ( width / 6, height / 2, width / 3, height / 3 * 2)\n",
    "    cropped_img = img.crop(leftCheek)\n",
    "    \n",
    "    rightCheek = ( width / 3 * 2, height / 2, width / 6 * 5, height / 3 * 2)\n",
    "    cropped_img2 = img.crop(rightCheek)\n",
    "    #預留圖片\n",
    "    toImage = Image.new('RGB', (100, 50))\n",
    "    #將兩張圖片貼上\n",
    "    toImage.paste(cropped_img, (0, 0))\n",
    "    toImage.paste(cropped_img2, (50, 0))\n",
    "    toImage.save(file_path4)"
   ]
  },
  {
   "cell_type": "code",
   "execution_count": 33,
   "metadata": {},
   "outputs": [],
   "source": []
  },
  {
   "cell_type": "code",
   "execution_count": null,
   "metadata": {},
   "outputs": [],
   "source": []
  }
 ],
 "metadata": {
  "kernelspec": {
   "display_name": "Python 3",
   "language": "python",
   "name": "python3"
  },
  "language_info": {
   "codemirror_mode": {
    "name": "ipython",
    "version": 3
   },
   "file_extension": ".py",
   "mimetype": "text/x-python",
   "name": "python",
   "nbconvert_exporter": "python",
   "pygments_lexer": "ipython3",
   "version": "3.6.4"
  }
 },
 "nbformat": 4,
 "nbformat_minor": 2
}
